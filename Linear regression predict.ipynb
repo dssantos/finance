{
 "cells": [
  {
   "cell_type": "code",
   "execution_count": 1,
   "id": "6510fc74",
   "metadata": {},
   "outputs": [],
   "source": [
    "import warnings\n",
    "warnings.filterwarnings('ignore')\n",
    "import yfinance as yf\n",
    "import pandas as pd\n",
    "import matplotlib.pyplot as plt\n",
    "from sklearn.feature_selection import SelectKBest\n",
    "from sklearn.model_selection import GridSearchCV\n",
    "from sklearn.neural_network import MLPRegressor\n",
    "from sklearn.preprocessing import MinMaxScaler\n",
    "from sklearn import datasets, linear_model\n",
    "from sklearn.metrics import mean_squared_error, r2_score, explained_variance_score, max_error, mean_absolute_error"
   ]
  },
  {
   "cell_type": "code",
   "execution_count": 2,
   "id": "f52464ac",
   "metadata": {},
   "outputs": [
    {
     "data": {
      "text/html": [
       "<div>\n",
       "<style scoped>\n",
       "    .dataframe tbody tr th:only-of-type {\n",
       "        vertical-align: middle;\n",
       "    }\n",
       "\n",
       "    .dataframe tbody tr th {\n",
       "        vertical-align: top;\n",
       "    }\n",
       "\n",
       "    .dataframe thead th {\n",
       "        text-align: right;\n",
       "    }\n",
       "</style>\n",
       "<table border=\"1\" class=\"dataframe\">\n",
       "  <thead>\n",
       "    <tr style=\"text-align: right;\">\n",
       "      <th></th>\n",
       "      <th>Open</th>\n",
       "      <th>High</th>\n",
       "      <th>Low</th>\n",
       "      <th>Close</th>\n",
       "      <th>Volume</th>\n",
       "      <th>Dividends</th>\n",
       "      <th>Stock Splits</th>\n",
       "    </tr>\n",
       "    <tr>\n",
       "      <th>Date</th>\n",
       "      <th></th>\n",
       "      <th></th>\n",
       "      <th></th>\n",
       "      <th></th>\n",
       "      <th></th>\n",
       "      <th></th>\n",
       "      <th></th>\n",
       "    </tr>\n",
       "  </thead>\n",
       "  <tbody>\n",
       "    <tr>\n",
       "      <th>2016-07-08</th>\n",
       "      <td>15.332457</td>\n",
       "      <td>15.610341</td>\n",
       "      <td>15.269078</td>\n",
       "      <td>15.571340</td>\n",
       "      <td>19734660</td>\n",
       "      <td>0.0</td>\n",
       "      <td>0.0</td>\n",
       "    </tr>\n",
       "    <tr>\n",
       "      <th>2016-07-11</th>\n",
       "      <td>15.639598</td>\n",
       "      <td>15.834605</td>\n",
       "      <td>15.532342</td>\n",
       "      <td>15.722475</td>\n",
       "      <td>15349125</td>\n",
       "      <td>0.0</td>\n",
       "      <td>0.0</td>\n",
       "    </tr>\n",
       "    <tr>\n",
       "      <th>2016-07-12</th>\n",
       "      <td>15.868731</td>\n",
       "      <td>15.966234</td>\n",
       "      <td>15.517718</td>\n",
       "      <td>15.590846</td>\n",
       "      <td>24741750</td>\n",
       "      <td>0.0</td>\n",
       "      <td>0.0</td>\n",
       "    </tr>\n",
       "    <tr>\n",
       "      <th>2016-07-13</th>\n",
       "      <td>15.566473</td>\n",
       "      <td>15.922362</td>\n",
       "      <td>15.517721</td>\n",
       "      <td>15.912612</td>\n",
       "      <td>18582960</td>\n",
       "      <td>0.0</td>\n",
       "      <td>0.0</td>\n",
       "    </tr>\n",
       "    <tr>\n",
       "      <th>2016-07-14</th>\n",
       "      <td>16.209993</td>\n",
       "      <td>16.395252</td>\n",
       "      <td>16.097865</td>\n",
       "      <td>16.365999</td>\n",
       "      <td>32739300</td>\n",
       "      <td>0.0</td>\n",
       "      <td>0.0</td>\n",
       "    </tr>\n",
       "    <tr>\n",
       "      <th>...</th>\n",
       "      <td>...</td>\n",
       "      <td>...</td>\n",
       "      <td>...</td>\n",
       "      <td>...</td>\n",
       "      <td>...</td>\n",
       "      <td>...</td>\n",
       "      <td>...</td>\n",
       "    </tr>\n",
       "    <tr>\n",
       "      <th>2021-07-02</th>\n",
       "      <td>29.879999</td>\n",
       "      <td>30.100000</td>\n",
       "      <td>29.570000</td>\n",
       "      <td>30.010000</td>\n",
       "      <td>25225100</td>\n",
       "      <td>0.0</td>\n",
       "      <td>0.0</td>\n",
       "    </tr>\n",
       "    <tr>\n",
       "      <th>2021-07-05</th>\n",
       "      <td>29.719999</td>\n",
       "      <td>29.860001</td>\n",
       "      <td>29.549999</td>\n",
       "      <td>29.600000</td>\n",
       "      <td>12179100</td>\n",
       "      <td>0.0</td>\n",
       "      <td>0.0</td>\n",
       "    </tr>\n",
       "    <tr>\n",
       "      <th>2021-07-06</th>\n",
       "      <td>29.480000</td>\n",
       "      <td>29.730000</td>\n",
       "      <td>29.230000</td>\n",
       "      <td>29.549999</td>\n",
       "      <td>24371300</td>\n",
       "      <td>0.0</td>\n",
       "      <td>0.0</td>\n",
       "    </tr>\n",
       "    <tr>\n",
       "      <th>2021-07-07</th>\n",
       "      <td>29.580000</td>\n",
       "      <td>29.940001</td>\n",
       "      <td>29.150000</td>\n",
       "      <td>29.680000</td>\n",
       "      <td>39191100</td>\n",
       "      <td>0.0</td>\n",
       "      <td>0.0</td>\n",
       "    </tr>\n",
       "    <tr>\n",
       "      <th>2021-07-08</th>\n",
       "      <td>29.150000</td>\n",
       "      <td>29.670000</td>\n",
       "      <td>28.959999</td>\n",
       "      <td>29.290001</td>\n",
       "      <td>49065400</td>\n",
       "      <td>0.0</td>\n",
       "      <td>0.0</td>\n",
       "    </tr>\n",
       "  </tbody>\n",
       "</table>\n",
       "<p>1241 rows × 7 columns</p>\n",
       "</div>"
      ],
      "text/plain": [
       "                 Open       High        Low      Close    Volume  Dividends  \\\n",
       "Date                                                                          \n",
       "2016-07-08  15.332457  15.610341  15.269078  15.571340  19734660        0.0   \n",
       "2016-07-11  15.639598  15.834605  15.532342  15.722475  15349125        0.0   \n",
       "2016-07-12  15.868731  15.966234  15.517718  15.590846  24741750        0.0   \n",
       "2016-07-13  15.566473  15.922362  15.517721  15.912612  18582960        0.0   \n",
       "2016-07-14  16.209993  16.395252  16.097865  16.365999  32739300        0.0   \n",
       "...               ...        ...        ...        ...       ...        ...   \n",
       "2021-07-02  29.879999  30.100000  29.570000  30.010000  25225100        0.0   \n",
       "2021-07-05  29.719999  29.860001  29.549999  29.600000  12179100        0.0   \n",
       "2021-07-06  29.480000  29.730000  29.230000  29.549999  24371300        0.0   \n",
       "2021-07-07  29.580000  29.940001  29.150000  29.680000  39191100        0.0   \n",
       "2021-07-08  29.150000  29.670000  28.959999  29.290001  49065400        0.0   \n",
       "\n",
       "            Stock Splits  \n",
       "Date                      \n",
       "2016-07-08           0.0  \n",
       "2016-07-11           0.0  \n",
       "2016-07-12           0.0  \n",
       "2016-07-13           0.0  \n",
       "2016-07-14           0.0  \n",
       "...                  ...  \n",
       "2021-07-02           0.0  \n",
       "2021-07-05           0.0  \n",
       "2021-07-06           0.0  \n",
       "2021-07-07           0.0  \n",
       "2021-07-08           0.0  \n",
       "\n",
       "[1241 rows x 7 columns]"
      ]
     },
     "execution_count": 2,
     "metadata": {},
     "output_type": "execute_result"
    }
   ],
   "source": [
    "acao = yf.Ticker(\"ITUB4.SA\")\n",
    "df = acao.history(period='5y')\n",
    "df"
   ]
  },
  {
   "cell_type": "code",
   "execution_count": 3,
   "id": "16f25c31",
   "metadata": {},
   "outputs": [
    {
     "data": {
      "text/plain": [
       "<AxesSubplot:xlabel='Date'>"
      ]
     },
     "execution_count": 3,
     "metadata": {},
     "output_type": "execute_result"
    },
    {
     "data": {
      "image/png": "[encoded data removed]",
      "text/plain": [
       "<Figure size 1152x360 with 1 Axes>"
      ]
     },
     "metadata": {
      "needs_background": "light"
     },
     "output_type": "display_data"
    }
   ],
   "source": [
    "df['Close'].plot(figsize=(16,5))"
   ]
  },
  {
   "cell_type": "code",
   "execution_count": 4,
   "id": "e048547f",
   "metadata": {},
   "outputs": [],
   "source": [
    "# creates moving average of Close values\n",
    "df['ma5'] = df['Close'].rolling(5).mean()\n",
    "df['ma21'] = df['Close'].rolling(21).mean()"
   ]
  },
  {
   "cell_type": "code",
   "execution_count": 5,
   "id": "ea3729ca",
   "metadata": {},
   "outputs": [],
   "source": [
    "# adjust Close values to one day after\n",
    "df['Close'] = df['Close'].shift(-1)"
   ]
  },
  {
   "cell_type": "code",
   "execution_count": 6,
   "id": "def007d1",
   "metadata": {},
   "outputs": [],
   "source": [
    "# remove null records\n",
    "df.dropna(inplace=True)"
   ]
  },
  {
   "cell_type": "code",
   "execution_count": 7,
   "id": "32856e9c",
   "metadata": {},
   "outputs": [],
   "source": [
    "# split data in train (75%) test (24%) validation (1%)\n",
    "df_len = len(df)\n",
    "train_len = int(df_len * 0.75)\n",
    "test_len = int(df_len * 0.24)\n",
    "validation_len = df_len - train_len - test_len"
   ]
  },
  {
   "cell_type": "code",
   "execution_count": 8,
   "id": "377b713d",
   "metadata": {},
   "outputs": [
    {
     "data": {
      "text/plain": [
       "(915, 292, 13)"
      ]
     },
     "execution_count": 8,
     "metadata": {},
     "output_type": "execute_result"
    }
   ],
   "source": [
    "train_len, test_len, validation_len"
   ]
  },
  {
   "cell_type": "code",
   "execution_count": 9,
   "id": "7956c433",
   "metadata": {},
   "outputs": [],
   "source": [
    "# reset index\n",
    "df.reset_index(inplace=True)"
   ]
  },
  {
   "cell_type": "code",
   "execution_count": 10,
   "id": "571e191b",
   "metadata": {},
   "outputs": [
    {
     "data": {
      "text/plain": [
       "Date            datetime64[ns]\n",
       "Open                   float64\n",
       "High                   float64\n",
       "Low                    float64\n",
       "Close                  float64\n",
       "Volume                   int64\n",
       "Dividends              float64\n",
       "Stock Splits           float64\n",
       "ma5                    float64\n",
       "ma21                   float64\n",
       "dtype: object"
      ]
     },
     "execution_count": 10,
     "metadata": {},
     "output_type": "execute_result"
    }
   ],
   "source": [
    "df.dtypes"
   ]
  },
  {
   "cell_type": "code",
   "execution_count": 11,
   "id": "955b72e1",
   "metadata": {},
   "outputs": [],
   "source": [
    "# choosing features and labels\n",
    "features = df.drop(['Date','Dividends', 'Stock Splits', 'Close'], 1)\n",
    "labels = df['Close']"
   ]
  },
  {
   "cell_type": "code",
   "execution_count": 12,
   "id": "9437403a",
   "metadata": {},
   "outputs": [
    {
     "data": {
      "text/plain": [
       "array([44.15773242, 62.98933748, 89.72260019,  3.50019558, 47.10271554,\n",
       "       81.48632362])"
      ]
     },
     "execution_count": 12,
     "metadata": {},
     "output_type": "execute_result"
    }
   ],
   "source": [
    "# choosing best features\n",
    "features_list = ('Open', 'High', 'Low', 'Volume', 'ma5', 'ma21')\n",
    "\n",
    "k_best_features = SelectKBest(k='all')\n",
    "k_best_features.fit_transform(features, labels)\n",
    "k_best_features.scores_"
   ]
  },
  {
   "cell_type": "code",
   "execution_count": 13,
   "id": "ad3b88f4",
   "metadata": {},
   "outputs": [
    {
     "name": "stdout",
     "output_type": "stream",
     "text": [
      "Open 44.157732420960734\n",
      "High 62.9893374786608\n",
      "Low 89.72260018582419\n",
      "Volume 3.5001955841812546\n",
      "ma5 47.10271553808264\n",
      "ma21 81.48632362454052\n"
     ]
    }
   ],
   "source": [
    "# show values of best features\n",
    "k_best_features_scores = k_best_features.scores_\n",
    "raw_pairs = zip(features_list, k_best_features_scores)\n",
    "for feature, value in raw_pairs:\n",
    "    print(feature,value)"
   ]
  },
  {
   "cell_type": "code",
   "execution_count": 14,
   "id": "09110367",
   "metadata": {},
   "outputs": [],
   "source": [
    "# remove insignificants features\n",
    "features = df.drop(['Date','Dividends', 'Stock Splits', 'Close', 'Volume', 'Open', 'ma5'], 1)"
   ]
  },
  {
   "cell_type": "code",
   "execution_count": 15,
   "id": "f160970f",
   "metadata": {},
   "outputs": [
    {
     "name": "stdout",
     "output_type": "stream",
     "text": [
      "(1220, 3)\n",
      "[[0.01030615 0.00993896 0.        ]\n",
      " [0.         0.01197783 0.00383336]\n",
      " [0.00251366 0.01656513 0.00736762]\n",
      " ...\n",
      " [0.64857924 0.66710625 0.82410556]\n",
      " [0.64187921 0.65038555 0.81522546]\n",
      " [0.6527023  0.64620537 0.80726544]]\n"
     ]
    }
   ],
   "source": [
    "# normalize feature datas\n",
    "scaler = MinMaxScaler().fit(features)\n",
    "features_scale = scaler.transform(features)\n",
    "print(features_scale.shape)\n",
    "print(features_scale)"
   ]
  },
  {
   "cell_type": "code",
   "execution_count": 16,
   "id": "2a9ed232",
   "metadata": {},
   "outputs": [],
   "source": [
    "# split train and test datasets\n",
    "X_train = features_scale[:train_len]\n",
    "X_test = features_scale[train_len:-validation_len]\n",
    "\n",
    "y_train = labels[:train_len]\n",
    "y_test = labels[train_len:-validation_len]"
   ]
  },
  {
   "cell_type": "code",
   "execution_count": 17,
   "id": "051977ed",
   "metadata": {},
   "outputs": [
    {
     "name": "stdout",
     "output_type": "stream",
     "text": [
      "(915, 3)\n",
      "(292, 3)\n",
      "(915,)\n",
      "(292,)\n"
     ]
    }
   ],
   "source": [
    "# show datasets shapes\n",
    "for x in [X_train, X_test, y_train, y_test]:\n",
    "    print(x.shape)"
   ]
  },
  {
   "cell_type": "code",
   "execution_count": 18,
   "id": "311c5454",
   "metadata": {},
   "outputs": [],
   "source": [
    "## Appling linear regression to train an model\n",
    "\n",
    "# create a model\n",
    "lr = linear_model.LinearRegression()\n",
    "lr.fit(X_train, y_train)\n",
    "\n",
    "# create a predict\n",
    "pred = lr.predict(X_test)"
   ]
  },
  {
   "cell_type": "code",
   "execution_count": 19,
   "id": "8d01cfbc",
   "metadata": {},
   "outputs": [
    {
     "name": "stdout",
     "output_type": "stream",
     "text": [
      "root_mean_squared_error: 0.4225325721643884\n",
      "mean_squared_error: 0.65002505502818\n",
      "Determination coeficient: 0.9542460504599054\n",
      "explained_variance_score: 0.9542462303510452\n",
      "max_error: 2.105769679217058\n",
      "mean_absolute_error: 0.5138305747906143\n"
     ]
    }
   ],
   "source": [
    "# validate predict with test set\n",
    "rmse = mean_squared_error(y_test, pred)\n",
    "print(f'root_mean_squared_error: {rmse}')\n",
    "mse = mean_squared_error(y_test, pred, squared=False)\n",
    "print(f'mean_squared_error: {mse}')\n",
    "cd = r2_score(y_test, pred)\n",
    "print(f'Determination coeficient: {cd}')\n",
    "ev = explained_variance_score(y_test, pred)\n",
    "print(f'explained_variance_score: {ev}')\n",
    "me = max_error(y_test, pred)\n",
    "print(f'max_error: {me}')\n",
    "mae = mean_absolute_error(y_test, pred)\n",
    "print(f'mean_absolute_error: {mae}')"
   ]
  },
  {
   "cell_type": "code",
   "execution_count": 20,
   "id": "74ab2f58",
   "metadata": {},
   "outputs": [
    {
     "data": {
      "text/plain": [
       "<AxesSubplot:>"
      ]
     },
     "execution_count": 20,
     "metadata": {},
     "output_type": "execute_result"
    },
    {
     "data": {
      "image/png": "[encoded data removed]",
      "text/plain": [
       "<Figure size 1080x360 with 1 Axes>"
      ]
     },
     "metadata": {
      "needs_background": "light"
     },
     "output_type": "display_data"
    }
   ],
   "source": [
    "plot_df = pd.DataFrame({'real':y_test, 'predict':pred})\n",
    "plot_df.plot(figsize=(15,5))"
   ]
  },
  {
   "cell_type": "code",
   "execution_count": 21,
   "id": "1bfac507",
   "metadata": {},
   "outputs": [
    {
     "data": {
      "text/html": [
       "<div>\n",
       "<style scoped>\n",
       "    .dataframe tbody tr th:only-of-type {\n",
       "        vertical-align: middle;\n",
       "    }\n",
       "\n",
       "    .dataframe tbody tr th {\n",
       "        vertical-align: top;\n",
       "    }\n",
       "\n",
       "    .dataframe thead th {\n",
       "        text-align: right;\n",
       "    }\n",
       "</style>\n",
       "<table border=\"1\" class=\"dataframe\">\n",
       "  <thead>\n",
       "    <tr style=\"text-align: right;\">\n",
       "      <th></th>\n",
       "      <th>real</th>\n",
       "      <th>predict</th>\n",
       "    </tr>\n",
       "    <tr>\n",
       "      <th>date</th>\n",
       "      <th></th>\n",
       "      <th></th>\n",
       "    </tr>\n",
       "  </thead>\n",
       "  <tbody>\n",
       "    <tr>\n",
       "      <th>2021-06-22</th>\n",
       "      <td>32.013878</td>\n",
       "      <td>32.110571</td>\n",
       "    </tr>\n",
       "    <tr>\n",
       "      <th>2021-06-23</th>\n",
       "      <td>31.783993</td>\n",
       "      <td>32.080612</td>\n",
       "    </tr>\n",
       "    <tr>\n",
       "      <th>2021-06-24</th>\n",
       "      <td>31.793987</td>\n",
       "      <td>31.803055</td>\n",
       "    </tr>\n",
       "    <tr>\n",
       "      <th>2021-06-25</th>\n",
       "      <td>30.784496</td>\n",
       "      <td>31.257127</td>\n",
       "    </tr>\n",
       "    <tr>\n",
       "      <th>2021-06-28</th>\n",
       "      <td>30.434673</td>\n",
       "      <td>30.412146</td>\n",
       "    </tr>\n",
       "    <tr>\n",
       "      <th>2021-06-29</th>\n",
       "      <td>30.134823</td>\n",
       "      <td>30.089842</td>\n",
       "    </tr>\n",
       "    <tr>\n",
       "      <th>2021-06-30</th>\n",
       "      <td>29.785000</td>\n",
       "      <td>29.983310</td>\n",
       "    </tr>\n",
       "    <tr>\n",
       "      <th>2021-07-01</th>\n",
       "      <td>29.690001</td>\n",
       "      <td>29.611417</td>\n",
       "    </tr>\n",
       "    <tr>\n",
       "      <th>2021-07-02</th>\n",
       "      <td>30.010000</td>\n",
       "      <td>29.810781</td>\n",
       "    </tr>\n",
       "    <tr>\n",
       "      <th>2021-07-05</th>\n",
       "      <td>29.600000</td>\n",
       "      <td>29.700757</td>\n",
       "    </tr>\n",
       "    <tr>\n",
       "      <th>2021-07-06</th>\n",
       "      <td>29.549999</td>\n",
       "      <td>29.459137</td>\n",
       "    </tr>\n",
       "    <tr>\n",
       "      <th>2021-07-07</th>\n",
       "      <td>29.680000</td>\n",
       "      <td>29.501259</td>\n",
       "    </tr>\n",
       "  </tbody>\n",
       "</table>\n",
       "</div>"
      ],
      "text/plain": [
       "                 real    predict\n",
       "date                            \n",
       "2021-06-22  32.013878  32.110571\n",
       "2021-06-23  31.783993  32.080612\n",
       "2021-06-24  31.793987  31.803055\n",
       "2021-06-25  30.784496  31.257127\n",
       "2021-06-28  30.434673  30.412146\n",
       "2021-06-29  30.134823  30.089842\n",
       "2021-06-30  29.785000  29.983310\n",
       "2021-07-01  29.690001  29.611417\n",
       "2021-07-02  30.010000  29.810781\n",
       "2021-07-05  29.600000  29.700757\n",
       "2021-07-06  29.549999  29.459137\n",
       "2021-07-07  29.680000  29.501259"
      ]
     },
     "execution_count": 21,
     "metadata": {},
     "output_type": "execute_result"
    }
   ],
   "source": [
    "# predict execution\n",
    "predict = features_scale[-validation_len:]\n",
    "exchange_date_full = df['Date']\n",
    "exchange_date = exchange_date_full[-validation_len:]\n",
    "close_full = df['Close']\n",
    "close = close_full[-validation_len:]\n",
    "\n",
    "pred = lr.predict(predict)\n",
    "\n",
    "val_df = pd.DataFrame({'date':exchange_date, 'real':close, 'predict':pred})\n",
    "val_df['real'] = val_df['real'].shift(+1)\n",
    "val_df.dropna(inplace=True)\n",
    "\n",
    "val_df.set_index('date', inplace=True)\n",
    "val_df"
   ]
  },
  {
   "cell_type": "code",
   "execution_count": 22,
   "id": "e0637d06",
   "metadata": {},
   "outputs": [
    {
     "data": {
      "text/plain": [
       "<AxesSubplot:xlabel='date'>"
      ]
     },
     "execution_count": 22,
     "metadata": {},
     "output_type": "execute_result"
    },
    {
     "data": {
      "image/png": "[encoded data removed]",
      "text/plain": [
       "<Figure size 1080x360 with 1 Axes>"
      ]
     },
     "metadata": {
      "needs_background": "light"
     },
     "output_type": "display_data"
    }
   ],
   "source": [
    "val_df.plot(figsize=(15,5))"
   ]
  },
  {
   "cell_type": "code",
   "execution_count": 23,
   "id": "2b123aef",
   "metadata": {},
   "outputs": [
    {
     "name": "stdout",
     "output_type": "stream",
     "text": [
      "root_mean_squared_error: 0.03823937747295488\n",
      "mean_squared_error: 0.19554891324923002\n",
      "Determination coeficient: 0.9521021020813611\n",
      "explained_variance_score: 0.9548218076096165\n",
      "max_error: 0.472631094373682\n",
      "mean_absolute_error: 0.14908271119609307\n"
     ]
    }
   ],
   "source": [
    "# validate predict with validation set\n",
    "rmse = mean_squared_error(val_df['real'], val_df['predict'])\n",
    "print(f'root_mean_squared_error: {rmse}')\n",
    "mse = mean_squared_error(val_df['real'], val_df['predict'], squared=False)\n",
    "print(f'mean_squared_error: {mse}')\n",
    "cd = r2_score(val_df['real'], val_df['predict'])\n",
    "print(f'Determination coeficient: {cd}')\n",
    "ev = explained_variance_score(val_df['real'], val_df['predict'])\n",
    "print(f'explained_variance_score: {ev}')\n",
    "me = max_error(val_df['real'], val_df['predict'])\n",
    "print(f'max_error: {me}')\n",
    "mae = mean_absolute_error(val_df['real'], val_df['predict'])\n",
    "print(f'mean_absolute_error: {mae}')"
   ]
  }
 ],
 "metadata": {
  "kernelspec": {
   "display_name": "Python 3 (ipykernel)",
   "language": "python",
   "name": "python3"
  },
  "language_info": {
   "codemirror_mode": {
    "name": "ipython",
    "version": 3
   },
   "file_extension": ".py",
   "mimetype": "text/x-python",
   "name": "python",
   "nbconvert_exporter": "python",
   "pygments_lexer": "ipython3",
   "version": "3.8.0"
  },
  "varInspector": {
   "cols": {
    "lenName": 16,
    "lenType": 16,
    "lenVar": 40
   },
   "kernels_config": {
    "python": {
     "delete_cmd_postfix": "",
     "delete_cmd_prefix": "del ",
     "library": "var_list.py",
     "varRefreshCmd": "print(var_dic_list())"
    },
    "r": {
     "delete_cmd_postfix": ") ",
     "delete_cmd_prefix": "rm(",
     "library": "var_list.r",
     "varRefreshCmd": "cat(var_dic_list()) "
    }
   },
   "types_to_exclude": [
    "module",
    "function",
    "builtin_function_or_method",
    "instance",
    "_Feature"
   ],
   "window_display": false
  }
 },
 "nbformat": 4,
 "nbformat_minor": 5
}
